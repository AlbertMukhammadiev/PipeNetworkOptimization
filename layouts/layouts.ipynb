{
 "cells": [
  {
   "cell_type": "markdown",
   "metadata": {},
   "source": [
    "# Square maximum layout"
   ]
  },
  {
   "cell_type": "markdown",
   "metadata": {},
   "source": [
    "* fill dataframes with data"
   ]
  },
  {
   "cell_type": "code",
   "execution_count": 1,
   "metadata": {},
   "outputs": [],
   "source": [
    "from pandas import DataFrame\n",
    "\n",
    "# labels = [f'n{n}' for n in range(1, 10)]\n",
    "labels = list(range(1, 10))\n",
    "positions = [(0, 0), (4, 0), (0, 4), (8, 0), (4, 4), (0, 8), (8, 4), (4, 8), (8, 8)]\n",
    "types = ['sink'] * 8 + ['source']\n",
    "demands = [10, 20] * 4 + [-120]\n",
    "nodes = DataFrame({\n",
    "        'label': labels,\n",
    "        'pos': positions,\n",
    "        'type': types,\n",
    "        'demand': demands,\n",
    "    })\n",
    "\n",
    "# labels = [f'e{n}' for n in range(1, 13)]\n",
    "labels = list(range(1, 13))\n",
    "links = [('n1', 'n2'), ('n1', 'n3'), ('n2', 'n4'), ('n2', 'n5'), ('n3', 'n5'), ('n3', 'n6'),\n",
    "         ('n4', 'n7'), ('n5', 'n7'), ('n5', 'n8'), ('n6', 'n8'), ('n7', 'n9'), ('n8', 'n9')]\n",
    "links = [(int(v[1:]), int(u[1:])) for v, u in links]\n",
    "diameters = [1] * 12\n",
    "lengths = [100] * 12\n",
    "edges = DataFrame({\n",
    "        'label': labels,\n",
    "        'link': links,\n",
    "        'diameter': diameters,\n",
    "        'length': lengths,\n",
    "    })\n",
    "\n",
    "diameters = [0, 80, 100, 120, 140, 160, 180, 200, 220, 240, 260, 280, 300, 320]\n",
    "costs = [0, 23, 32, 50, 60, 90, 130, 170, 300, 340, 390, 430, 470, 500]\n",
    "cost_model = DataFrame({\n",
    "        'diameter': diameters,\n",
    "        'cost': costs,\n",
    "    })\n"
   ]
  },
  {
   "cell_type": "markdown",
   "metadata": {},
   "source": [
    "* preparing dataframes"
   ]
  },
  {
   "cell_type": "code",
   "execution_count": 3,
   "metadata": {},
   "outputs": [
    {
     "data": {
      "text/html": [
       "<div>\n",
       "<style scoped>\n",
       "    .dataframe tbody tr th:only-of-type {\n",
       "        vertical-align: middle;\n",
       "    }\n",
       "\n",
       "    .dataframe tbody tr th {\n",
       "        vertical-align: top;\n",
       "    }\n",
       "\n",
       "    .dataframe thead th {\n",
       "        text-align: right;\n",
       "    }\n",
       "</style>\n",
       "<table border=\"1\" class=\"dataframe\">\n",
       "  <thead>\n",
       "    <tr style=\"text-align: right;\">\n",
       "      <th></th>\n",
       "      <th>diameter</th>\n",
       "      <th>cost</th>\n",
       "    </tr>\n",
       "  </thead>\n",
       "  <tbody>\n",
       "    <tr>\n",
       "      <th>0</th>\n",
       "      <td>0</td>\n",
       "      <td>0</td>\n",
       "    </tr>\n",
       "    <tr>\n",
       "      <th>1</th>\n",
       "      <td>80</td>\n",
       "      <td>23</td>\n",
       "    </tr>\n",
       "    <tr>\n",
       "      <th>2</th>\n",
       "      <td>100</td>\n",
       "      <td>32</td>\n",
       "    </tr>\n",
       "    <tr>\n",
       "      <th>3</th>\n",
       "      <td>120</td>\n",
       "      <td>50</td>\n",
       "    </tr>\n",
       "    <tr>\n",
       "      <th>4</th>\n",
       "      <td>140</td>\n",
       "      <td>60</td>\n",
       "    </tr>\n",
       "    <tr>\n",
       "      <th>5</th>\n",
       "      <td>160</td>\n",
       "      <td>90</td>\n",
       "    </tr>\n",
       "    <tr>\n",
       "      <th>6</th>\n",
       "      <td>180</td>\n",
       "      <td>130</td>\n",
       "    </tr>\n",
       "    <tr>\n",
       "      <th>7</th>\n",
       "      <td>200</td>\n",
       "      <td>170</td>\n",
       "    </tr>\n",
       "    <tr>\n",
       "      <th>8</th>\n",
       "      <td>220</td>\n",
       "      <td>300</td>\n",
       "    </tr>\n",
       "    <tr>\n",
       "      <th>9</th>\n",
       "      <td>240</td>\n",
       "      <td>340</td>\n",
       "    </tr>\n",
       "    <tr>\n",
       "      <th>10</th>\n",
       "      <td>260</td>\n",
       "      <td>390</td>\n",
       "    </tr>\n",
       "    <tr>\n",
       "      <th>11</th>\n",
       "      <td>280</td>\n",
       "      <td>430</td>\n",
       "    </tr>\n",
       "    <tr>\n",
       "      <th>12</th>\n",
       "      <td>300</td>\n",
       "      <td>470</td>\n",
       "    </tr>\n",
       "    <tr>\n",
       "      <th>13</th>\n",
       "      <td>320</td>\n",
       "      <td>500</td>\n",
       "    </tr>\n",
       "  </tbody>\n",
       "</table>\n",
       "</div>"
      ],
      "text/plain": [
       "    diameter  cost\n",
       "0          0     0\n",
       "1         80    23\n",
       "2        100    32\n",
       "3        120    50\n",
       "4        140    60\n",
       "5        160    90\n",
       "6        180   130\n",
       "7        200   170\n",
       "8        220   300\n",
       "9        240   340\n",
       "10       260   390\n",
       "11       280   430\n",
       "12       300   470\n",
       "13       320   500"
      ]
     },
     "execution_count": 3,
     "metadata": {},
     "output_type": "execute_result"
    }
   ],
   "source": [
    "prepared_nodes = nodes.set_index('label')\n",
    "prepared_edges = edges.drop(columns=['diameter']).set_index('label')\n",
    "prepared_costs = cost_model.set_index('diameter')\n",
    "cost_model"
   ]
  },
  {
   "cell_type": "markdown",
   "metadata": {},
   "source": [
    "* save dataframes to files"
   ]
  },
  {
   "cell_type": "code",
   "execution_count": 14,
   "metadata": {},
   "outputs": [],
   "source": [
    "prepared_nodes.to_csv('../initial_layouts/square/nodes.csv')\n",
    "prepared_edges.to_csv('../initial_layouts/square/edges.csv')\n",
    "prepared_costs.to_csv('../initial_layouts/square/cost_data.csv')"
   ]
  },
  {
   "cell_type": "code",
   "execution_count": null,
   "metadata": {},
   "outputs": [],
   "source": []
  },
  {
   "cell_type": "markdown",
   "metadata": {},
   "source": [
    "# Big network"
   ]
  },
  {
   "cell_type": "code",
   "execution_count": null,
   "metadata": {},
   "outputs": [],
   "source": [
    "from pandas import DataFrame\n",
    "\n",
    "# labels = [f'n{n}' for n in range(1, 10)]\n",
    "labels = list(range(1, 20))\n",
    "positions = [(7.5, 2), (19.8, 3.2), (34.6, 4.6)]\n",
    "types = ['sink'] * 8 + ['source']\n",
    "demands = [10, 20] * 4 + [-120]\n",
    "nodes = DataFrame({\n",
    "        'label': labels,\n",
    "        'pos': positions,\n",
    "        'type': types,\n",
    "        'demand': demands,\n",
    "    })\n",
    "\n",
    "# labels = [f'e{n}' for n in range(1, 13)]\n",
    "labels = list(range(1, 13))\n",
    "links = [('n1', 'n2'), ('n1', 'n3'), ('n2', 'n4'), ('n2', 'n5'), ('n3', 'n5'), ('n3', 'n6'),\n",
    "         ('n4', 'n7'), ('n5', 'n7'), ('n5', 'n8'), ('n6', 'n8'), ('n7', 'n9'), ('n8', 'n9')]\n",
    "links = [(int(v[1:]), int(u[1:])) for v, u in links]\n",
    "diameters = [1] * 12\n",
    "lengths = [100] * 12\n",
    "edges = DataFrame({\n",
    "        'label': labels,\n",
    "        'link': links,\n",
    "        'diameter': diameters,\n",
    "        'length': lengths,\n",
    "    })\n",
    "\n",
    "diameters = [0, 80, 100, 120, 140, 160, 180, 200, 220, 240, 260, 280, 300, 320]\n",
    "costs = [0, 23, 32, 50, 60, 90, 130, 170, 300, 340, 390, 430, 470, 500]\n",
    "cost_model = DataFrame({\n",
    "        'diameter': diameters,\n",
    "        'cost': costs,\n",
    "    })"
   ]
  },
  {
   "cell_type": "code",
   "execution_count": null,
   "metadata": {},
   "outputs": [],
   "source": []
  },
  {
   "cell_type": "code",
   "execution_count": null,
   "metadata": {},
   "outputs": [],
   "source": [
    "\n",
    "\n"
   ]
  },
  {
   "cell_type": "code",
   "execution_count": null,
   "metadata": {},
   "outputs": [],
   "source": []
  },
  {
   "cell_type": "code",
   "execution_count": null,
   "metadata": {},
   "outputs": [],
   "source": []
  },
  {
   "cell_type": "code",
   "execution_count": null,
   "metadata": {},
   "outputs": [],
   "source": []
  },
  {
   "cell_type": "code",
   "execution_count": null,
   "metadata": {},
   "outputs": [],
   "source": []
  },
  {
   "cell_type": "code",
   "execution_count": null,
   "metadata": {},
   "outputs": [],
   "source": []
  },
  {
   "cell_type": "code",
   "execution_count": null,
   "metadata": {},
   "outputs": [],
   "source": []
  },
  {
   "cell_type": "code",
   "execution_count": null,
   "metadata": {},
   "outputs": [],
   "source": []
  },
  {
   "cell_type": "code",
   "execution_count": null,
   "metadata": {},
   "outputs": [],
   "source": []
  },
  {
   "cell_type": "code",
   "execution_count": null,
   "metadata": {},
   "outputs": [],
   "source": []
  }
 ],
 "metadata": {
  "kernelspec": {
   "display_name": "Python 3",
   "language": "python",
   "name": "python3"
  },
  "language_info": {
   "codemirror_mode": {
    "name": "ipython",
    "version": 3
   },
   "file_extension": ".py",
   "mimetype": "text/x-python",
   "name": "python",
   "nbconvert_exporter": "python",
   "pygments_lexer": "ipython3",
   "version": "3.6.7"
  }
 },
 "nbformat": 4,
 "nbformat_minor": 2
}
