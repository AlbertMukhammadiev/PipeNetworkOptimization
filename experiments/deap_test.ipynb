{
 "cells": [
  {
   "cell_type": "markdown",
   "metadata": {},
   "source": [
    "# Mapping cost model"
   ]
  },
  {
   "cell_type": "code",
   "execution_count": 5,
   "metadata": {},
   "outputs": [],
   "source": [
    "from pandas import read_csv\n",
    "from collections import namedtuple\n",
    "\n",
    "PipeProps = namedtuple('PipeProps', 'diameter cost')\n",
    "\n",
    "def cost_scheme(fname):\n",
    "    cost_data = read_csv(fname)\n",
    "    key_len = len(bin(len(cost_data))) - 2\n",
    "    scheme = dict()\n",
    "    for item in cost_data.itertuples():\n",
    "        key = bin(item.Index)[2:].zfill(key_len)\n",
    "        scheme[key] = PipeProps(diameter=item.diameter, cost=item.cost)\n",
    "    \n",
    "    return scheme\n",
    "\n",
    "costs = cost_scheme('initial_layouts/square/cost_data.csv')"
   ]
  },
  {
   "cell_type": "markdown",
   "metadata": {},
   "source": [
    "# Edges scheme\n",
    "    "
   ]
  },
  {
   "cell_type": "code",
   "execution_count": 20,
   "metadata": {},
   "outputs": [
    {
     "name": "stdout",
     "output_type": "stream",
     "text": [
      "{(1, 2): EdgeProps(label=1, length=100),\n",
      " (1, 3): EdgeProps(label=2, length=100),\n",
      " (2, 4): EdgeProps(label=3, length=100),\n",
      " (2, 5): EdgeProps(label=4, length=100),\n",
      " (3, 5): EdgeProps(label=5, length=100),\n",
      " (3, 6): EdgeProps(label=6, length=100),\n",
      " (4, 7): EdgeProps(label=7, length=100),\n",
      " (5, 7): EdgeProps(label=8, length=100),\n",
      " (5, 8): EdgeProps(label=9, length=100),\n",
      " (6, 8): EdgeProps(label=10, length=100),\n",
      " (7, 9): EdgeProps(label=11, length=100),\n",
      " (8, 9): EdgeProps(label=12, length=100)}\n",
      "\n",
      "{(1, 2): EdgeProps(label=1, length=100),\n",
      " (1, 3): EdgeProps(label=2, length=100),\n",
      " (2, 4): EdgeProps(label=3, length=100),\n",
      " (2, 5): EdgeProps(label=4, length=100),\n",
      " (3, 5): EdgeProps(label=1002, length=99),\n",
      " (3, 6): EdgeProps(label=6, length=100),\n",
      " (4, 7): EdgeProps(label=7, length=100),\n",
      " (5, 7): EdgeProps(label=8, length=100),\n",
      " (5, 8): EdgeProps(label=9, length=100),\n",
      " (6, 8): EdgeProps(label=10, length=100),\n",
      " (7, 9): EdgeProps(label=11, length=100),\n",
      " (8, 9): EdgeProps(label=12, length=100)}\n",
      "\n"
     ]
    },
    {
     "data": {
      "text/plain": [
       "[((3, 5), EdgeProps(label=1002, length=99)),\n",
       " ((1, 2), EdgeProps(label=1, length=100)),\n",
       " ((1, 3), EdgeProps(label=2, length=100)),\n",
       " ((2, 4), EdgeProps(label=3, length=100)),\n",
       " ((2, 5), EdgeProps(label=4, length=100)),\n",
       " ((3, 6), EdgeProps(label=6, length=100)),\n",
       " ((4, 7), EdgeProps(label=7, length=100)),\n",
       " ((5, 7), EdgeProps(label=8, length=100)),\n",
       " ((5, 8), EdgeProps(label=9, length=100)),\n",
       " ((6, 8), EdgeProps(label=10, length=100)),\n",
       " ((7, 9), EdgeProps(label=11, length=100)),\n",
       " ((8, 9), EdgeProps(label=12, length=100))]"
      ]
     },
     "execution_count": 20,
     "metadata": {},
     "output_type": "execute_result"
    }
   ],
   "source": [
    "from pandas import read_csv\n",
    "from collections import namedtuple\n",
    "\n",
    "from pprint import pprint\n",
    "EdgeProps = namedtuple('EdgeProps', 'label length')\n",
    "\n",
    "def edges_scheme(fname):\n",
    "    edges = read_csv(fname)\n",
    "    scheme = dict()\n",
    "    for item in edges.itertuples():\n",
    "        scheme[eval(item.link)] = EdgeProps(label=item.label, length=item.length)\n",
    "    return scheme\n",
    "\n",
    "edges = edges_scheme('initial_layouts/square/edges.csv')\n",
    "pprint(edges)\n",
    "print()\n",
    "edges[(3,5)] = EdgeProps(label=1002, length=99)\n",
    "pprint(edges)\n",
    "print()\n",
    "\n",
    "sorted_edges = sorted(edges.items(), key=lambda pair: pair[1].length)\n",
    "sorted_edges"
   ]
  },
  {
   "cell_type": "markdown",
   "metadata": {},
   "source": [
    "# Nodes scheme"
   ]
  },
  {
   "cell_type": "code",
   "execution_count": 3,
   "metadata": {},
   "outputs": [],
   "source": [
    "from pandas import read_csv\n",
    "from collections import namedtuple\n",
    "\n",
    "def nodes_scheme(fname):\n",
    "    NodeProps = namedtuple('NodeProps', 'pos type demand')\n",
    "    nodes = read_csv(fname)\n",
    "    scheme = dict()\n",
    "    for item in nodes.itertuples():\n",
    "        scheme[item.label] = NodeProps(pos=eval(item.pos), type=item.type, demand=item.demand)\n",
    "    return scheme\n",
    "\n",
    "nodes = nodes_scheme('initial_layouts/square/nodes.csv')"
   ]
  },
  {
   "cell_type": "code",
   "execution_count": null,
   "metadata": {},
   "outputs": [],
   "source": []
  },
  {
   "cell_type": "markdown",
   "metadata": {},
   "source": [
    "# Create graph from files"
   ]
  },
  {
   "cell_type": "code",
   "execution_count": 1,
   "metadata": {},
   "outputs": [],
   "source": [
    "import networkx as nx\n",
    "\n",
    "fname_nodes = 'initial_layouts/square/nodes.csv'\n",
    "fname_edges = 'initial_layouts/square/edges.csv'\n",
    "fname_costs = 'initial_layouts/square/cost_data.csv'\n",
    "\n",
    "def create_graph(nodes, edges):\n",
    "    graph = nx.Graph()\n",
    "    for label, props in nodes.items():\n",
    "        graph.add_node(label, pos=props.pos, type=props.type, demand=props.demand)\n",
    "\n",
    "    for label, props in edges.items():\n",
    "        graph.add_edge(*props.link, label=label, length=props.length)\n",
    "    \n",
    "    return graph"
   ]
  },
  {
   "cell_type": "markdown",
   "metadata": {},
   "source": [
    "# Maximum possible cost"
   ]
  },
  {
   "cell_type": "code",
   "execution_count": 5,
   "metadata": {},
   "outputs": [
    {
     "data": {
      "text/plain": [
       "600000"
      ]
     },
     "execution_count": 5,
     "metadata": {},
     "output_type": "execute_result"
    }
   ],
   "source": [
    "def max_cost(cost_scheme, edges_scheme):\n",
    "    most_expensive = max([pipe.cost for pipe in cost_scheme.values()])\n",
    "    weights = [edge.length * most_expensive for edge in edges_scheme.values()]\n",
    "    return sum(weights)\n",
    "\n",
    "max_cost(costs, edges)"
   ]
  },
  {
   "cell_type": "code",
   "execution_count": null,
   "metadata": {},
   "outputs": [],
   "source": []
  },
  {
   "cell_type": "markdown",
   "metadata": {},
   "source": [
    "# csvReader"
   ]
  },
  {
   "cell_type": "code",
   "execution_count": 6,
   "metadata": {},
   "outputs": [],
   "source": [
    "from pandas import read_csv\n",
    "\n",
    "\n",
    "FileNames = namedtuple('FileNames', 'nodes edges costs')\n",
    "EdgeProps = namedtuple('EdgeProps', 'label length')\n",
    "PipeProps = namedtuple('PipeProps', 'diameter cost')\n",
    "NodeProps = namedtuple('NodeProps', 'pos type demand')\n",
    "\n",
    "\n",
    "class ReaderCSV:\n",
    "    def __init__(self, fnames):\n",
    "        self._fnames = fnames\n",
    "\n",
    "    def edges_scheme(fname):\n",
    "        edges = read_csv(fname)\n",
    "        scheme = dict()\n",
    "        for item in edges.itertuples():\n",
    "            scheme[eval(item.link)] = EdgeProps(label=item.label, length=item.length)\n",
    "        return scheme\n",
    "\n",
    "    def cost_scheme(self):\n",
    "        cost_data = read_csv(self._fnames.costs)\n",
    "        key_len = len(bin(len(cost_data))) - 2\n",
    "        scheme = dict()\n",
    "        for item in cost_data.itertuples():\n",
    "            key = bin(item.Index)[2:].zfill(key_len)\n",
    "            scheme[key] = PipeProps(diameter=item.diameter, cost=item.cost)\n",
    "        return scheme\n",
    "\n",
    "    def nodes_scheme(self):\n",
    "        nodes = read_csv(self._fnames.nodes)\n",
    "        scheme = dict()\n",
    "        for item in nodes.itertuples():\n",
    "            scheme[item.label] = NodeProps(pos=eval(item.pos), type=item.type, demand=item.demand)\n",
    "        return scheme"
   ]
  },
  {
   "cell_type": "code",
   "execution_count": null,
   "metadata": {},
   "outputs": [],
   "source": []
  },
  {
   "cell_type": "markdown",
   "metadata": {},
   "source": [
    "# Network class"
   ]
  },
  {
   "cell_type": "code",
   "execution_count": 6,
   "metadata": {},
   "outputs": [
    {
     "ename": "SyntaxError",
     "evalue": "invalid syntax (<ipython-input-6-b3747cad9165>, line 34)",
     "output_type": "error",
     "traceback": [
      "\u001b[0;36m  File \u001b[0;32m\"<ipython-input-6-b3747cad9165>\"\u001b[0;36m, line \u001b[0;32m34\u001b[0m\n\u001b[0;31m    self._internal.\u001b[0m\n\u001b[0m                   ^\u001b[0m\n\u001b[0;31mSyntaxError\u001b[0m\u001b[0;31m:\u001b[0m invalid syntax\n"
     ]
    }
   ],
   "source": [
    "import networkx as nx\n",
    "from matplotlib.pyplot import show, savefig\n",
    "\n",
    "class Network:\n",
    "    def __init__(self, reader):\n",
    "        self._costs = reader.cost_scheme()\n",
    "        self._nodes = reader.nodes_scheme()\n",
    "        self._edges = reader.edges_scheme()\n",
    "        self._internal = nx.Graph()\n",
    "        self._init_internal(nodes, edges)\n",
    "        self._MAX_COST = self.max_cost()\n",
    "        self._key_len = len(next(iter(self._costs.keys())))\n",
    "\n",
    "    def construction_cost(self, design_solution):\n",
    "        cost = 0\n",
    "        for label, key in design_solution.items():\n",
    "            cost += self._edges[label].length * self._costs[key].cost\n",
    "        return cost\n",
    "\n",
    "    def max_cost(self):\n",
    "        most_expensive = max([pipe.cost for pipe in self._costs.values()])\n",
    "        weights = [edge.length * most_expensive for edge in self._edges.values()]\n",
    "        return sum(weights)\n",
    "    \n",
    "    def redesign(self, bits):\n",
    "        bits = ''.join(str(bit) for bit in bits)\n",
    "        labels = sorted(self._edges.keys())\n",
    "        self._current_design = zip(\n",
    "            labels,\n",
    "            [bits[i:i + self._key_len] for i in range(0, len(bits), self._key_len)]\n",
    "        )\n",
    "        \n",
    "        self._internal.remove_edges_from(self._internal.edges())\n",
    "        for key\n",
    "        \n",
    "        \n",
    "    \n",
    "    def total_cost(self, individual):\n",
    "        \n",
    "        \n",
    "        \n",
    "        \n",
    "    def _init_internal(self):\n",
    "        for label, props in self._nodes.items():\n",
    "            self._internal.add_node(label, pos=props.pos, type=props.type, demand=props.demand)\n",
    "        for label, props in self._edges.items():\n",
    "            self._internal.add_edge(*props.link, label=label, length=props.length)\n",
    "\n",
    "    def nbits_for_mapping(self):\n",
    "        nbits_pipe = (len(bin(len(self._costs))) - 2)\n",
    "        return len(self._edges) * nbits_pipe\n",
    "\n",
    "    def draw(self):\n",
    "        eprop_labels = nx.get_edge_attributes(self._internal, 'props')\n",
    "        nprop_pos = nx.get_node_attributes(self._internal, 'pos')\n",
    "        nx.draw(self._internal, nprop_pos, with_labels=True)\n",
    "        nx.draw_networkx_edge_labels(self._internal, nprop_pos, edge_labels=eprop_labels)\n",
    "        savefig('internal.png', format='PNG')\n",
    "        print('saved in internal.png')\n",
    "\n",
    "    \n",
    "\n"
   ]
  },
  {
   "cell_type": "code",
   "execution_count": null,
   "metadata": {},
   "outputs": [],
   "source": [
    "import networkx as nx\n",
    "\n",
    "class Network:\n",
    "    def __init__(self, reader):\n",
    "        self._internal = nx.Graph()\n",
    "        for label, props in reader.nodes_scheme().items():\n",
    "            self._internal.add_node(label, pos=props.pos, type=props.type, demand=props.demand)\n",
    "        \n",
    "        self._max_layout = reader.edges_scheme()\n",
    "        self._cost_model = reader.cost_scheme()\n",
    "        \n",
    "        sorted_edges = sorted(edges.items(), key=lambda pair: pair[1].length)\n",
    "        self._edges_by_substringNo = dict(zip())\n",
    "        \n",
    "    def _map_substringNo(self):\n",
    "        sorted_edges = sorted(self._max_layout.items(), key=lambda pair: pair[1].label)\n",
    "        links = map(sorted_edges, lambda x: x[0])\n",
    "        substringsNo = list(range(self._max_layout))\n",
    "        return dict(zip(substringsNo, links))"
   ]
  },
  {
   "cell_type": "markdown",
   "metadata": {},
   "source": [
    "# Individual cost"
   ]
  },
  {
   "cell_type": "code",
   "execution_count": 7,
   "metadata": {},
   "outputs": [
    {
     "name": "stdout",
     "output_type": "stream",
     "text": [
      "[1, 0, 1, 1, 0, 0, 1, 0, 1, 1, 0, 0, 1, 1, 1, 0, 0, 1, 0, 1, 0, 1, 1, 1, 0, 0, 0, 0, 1, 0, 1, 0, 1, 1, 0, 0, 1, 0, 0, 0, 0, 0, 0, 0, 0, 1, 0, 1]\n"
     ]
    },
    {
     "ename": "KeyError",
     "evalue": "'1110'",
     "output_type": "error",
     "traceback": [
      "\u001b[0;31m---------------------------------------------------------------------------\u001b[0m",
      "\u001b[0;31mKeyError\u001b[0m                                  Traceback (most recent call last)",
      "\u001b[0;32m<ipython-input-7-032e4d583e26>\u001b[0m in \u001b[0;36m<module>\u001b[0;34m()\u001b[0m\n\u001b[1;32m     20\u001b[0m \u001b[0;34m\u001b[0m\u001b[0m\n\u001b[1;32m     21\u001b[0m \u001b[0mprint\u001b[0m\u001b[0;34m(\u001b[0m\u001b[0mindividual\u001b[0m\u001b[0;34m)\u001b[0m\u001b[0;34m\u001b[0m\u001b[0;34m\u001b[0m\u001b[0m\n\u001b[0;32m---> 22\u001b[0;31m \u001b[0mconstruction_cost\u001b[0m\u001b[0;34m(\u001b[0m\u001b[0mindividual\u001b[0m\u001b[0;34m,\u001b[0m \u001b[0medges\u001b[0m\u001b[0;34m,\u001b[0m \u001b[0mcosts\u001b[0m\u001b[0;34m)\u001b[0m\u001b[0;34m\u001b[0m\u001b[0;34m\u001b[0m\u001b[0m\n\u001b[0m",
      "\u001b[0;32m<ipython-input-7-032e4d583e26>\u001b[0m in \u001b[0;36mconstruction_cost\u001b[0;34m(individual, edges_scheme, cost_scheme)\u001b[0m\n\u001b[1;32m      7\u001b[0m     \u001b[0mcost\u001b[0m \u001b[0;34m=\u001b[0m \u001b[0;36m0\u001b[0m\u001b[0;34m\u001b[0m\u001b[0;34m\u001b[0m\u001b[0m\n\u001b[1;32m      8\u001b[0m     \u001b[0;32mfor\u001b[0m \u001b[0mlabel\u001b[0m\u001b[0;34m,\u001b[0m \u001b[0mkey\u001b[0m \u001b[0;32min\u001b[0m \u001b[0mdesign_solution\u001b[0m\u001b[0;34m.\u001b[0m\u001b[0mitems\u001b[0m\u001b[0;34m(\u001b[0m\u001b[0;34m)\u001b[0m\u001b[0;34m:\u001b[0m\u001b[0;34m\u001b[0m\u001b[0;34m\u001b[0m\u001b[0m\n\u001b[0;32m----> 9\u001b[0;31m         \u001b[0mcost\u001b[0m \u001b[0;34m+=\u001b[0m \u001b[0medges_scheme\u001b[0m\u001b[0;34m[\u001b[0m\u001b[0mlabel\u001b[0m\u001b[0;34m]\u001b[0m\u001b[0;34m.\u001b[0m\u001b[0mlength\u001b[0m \u001b[0;34m*\u001b[0m \u001b[0mcost_scheme\u001b[0m\u001b[0;34m[\u001b[0m\u001b[0mkey\u001b[0m\u001b[0;34m]\u001b[0m\u001b[0;34m.\u001b[0m\u001b[0mcost\u001b[0m\u001b[0;34m\u001b[0m\u001b[0;34m\u001b[0m\u001b[0m\n\u001b[0m\u001b[1;32m     10\u001b[0m     \u001b[0;32mreturn\u001b[0m \u001b[0mcost\u001b[0m\u001b[0;34m\u001b[0m\u001b[0;34m\u001b[0m\u001b[0m\n\u001b[1;32m     11\u001b[0m     \u001b[0;31m# costs\u001b[0m\u001b[0;34m\u001b[0m\u001b[0;34m\u001b[0m\u001b[0;34m\u001b[0m\u001b[0m\n",
      "\u001b[0;31mKeyError\u001b[0m: '1110'"
     ]
    }
   ],
   "source": [
    "def construction_cost(individual, edges_scheme, cost_scheme):\n",
    "    \n",
    "    cost = 0\n",
    "    for label, key in design_solution.items():\n",
    "        cost += edges_scheme[label].length * cost_scheme[key].cost\n",
    "    return cost\n",
    "    # costs\n",
    "# next(iter(mydict.values()))\n",
    "\n",
    "\n",
    "IND_SIZE = 48\n",
    "from random import randint\n",
    "individual_dec = randint(2 ** 47, 2 ** 48 - 1)\n",
    "individual_bin = bin(individual_dec)[2:]\n",
    "individual = [int(x) for x in individual_bin]\n",
    "\n",
    "print(individual)\n",
    "construction_cost(individual, edges, costs)\n"
   ]
  },
  {
   "cell_type": "code",
   "execution_count": 84,
   "metadata": {},
   "outputs": [
    {
     "data": {
      "text/plain": [
       "{'0000': PipeProps(diameter=0, cost=0),\n",
       " '0001': PipeProps(diameter=80, cost=23),\n",
       " '0010': PipeProps(diameter=100, cost=32),\n",
       " '0011': PipeProps(diameter=120, cost=50),\n",
       " '0100': PipeProps(diameter=140, cost=60),\n",
       " '0101': PipeProps(diameter=160, cost=90),\n",
       " '0110': PipeProps(diameter=180, cost=130),\n",
       " '0111': PipeProps(diameter=200, cost=170),\n",
       " '1000': PipeProps(diameter=220, cost=300),\n",
       " '1001': PipeProps(diameter=240, cost=340),\n",
       " '1010': PipeProps(diameter=260, cost=390),\n",
       " '1011': PipeProps(diameter=280, cost=430),\n",
       " '1100': PipeProps(diameter=300, cost=470),\n",
       " '1101': PipeProps(diameter=320, cost=500)}"
      ]
     },
     "execution_count": 84,
     "metadata": {},
     "output_type": "execute_result"
    }
   ],
   "source": [
    "costs"
   ]
  },
  {
   "cell_type": "code",
   "execution_count": 85,
   "metadata": {},
   "outputs": [
    {
     "data": {
      "text/plain": [
       "{1: EdgeProps(link=(1, 2), length=100),\n",
       " 2: EdgeProps(link=(1, 3), length=100),\n",
       " 3: EdgeProps(link=(2, 4), length=100),\n",
       " 4: EdgeProps(link=(2, 5), length=100),\n",
       " 5: EdgeProps(link=(3, 5), length=100),\n",
       " 6: EdgeProps(link=(3, 6), length=100),\n",
       " 7: EdgeProps(link=(4, 7), length=100),\n",
       " 8: EdgeProps(link=(5, 7), length=100),\n",
       " 9: EdgeProps(link=(5, 8), length=100),\n",
       " 10: EdgeProps(link=(6, 8), length=100),\n",
       " 11: EdgeProps(link=(7, 9), length=100),\n",
       " 12: EdgeProps(link=(8, 9), length=100)}"
      ]
     },
     "execution_count": 85,
     "metadata": {},
     "output_type": "execute_result"
    }
   ],
   "source": [
    "edges"
   ]
  },
  {
   "cell_type": "code",
   "execution_count": null,
   "metadata": {},
   "outputs": [],
   "source": []
  },
  {
   "cell_type": "markdown",
   "metadata": {},
   "source": [
    "# Flow rate by diameter and velocity\n",
    "* Flow_rate = 1/4 * pi * (pipe_diam) ^ 2 * velocity"
   ]
  },
  {
   "cell_type": "code",
   "execution_count": null,
   "metadata": {},
   "outputs": [],
   "source": [
    "def flow_rates(edges, individual):\n",
    "    "
   ]
  },
  {
   "cell_type": "code",
   "execution_count": 2,
   "metadata": {},
   "outputs": [
    {
     "ename": "NameError",
     "evalue": "name 'nodes' is not defined",
     "output_type": "error",
     "traceback": [
      "\u001b[0;31m---------------------------------------------------------------------------\u001b[0m",
      "\u001b[0;31mNameError\u001b[0m                                 Traceback (most recent call last)",
      "\u001b[0;32m<ipython-input-2-07cc6dcfbfa2>\u001b[0m in \u001b[0;36m<module>\u001b[0;34m()\u001b[0m\n\u001b[0;32m----> 1\u001b[0;31m \u001b[0mG\u001b[0m \u001b[0;34m=\u001b[0m \u001b[0mcreate_graph\u001b[0m\u001b[0;34m(\u001b[0m\u001b[0mnodes\u001b[0m\u001b[0;34m,\u001b[0m \u001b[0medges\u001b[0m\u001b[0;34m)\u001b[0m\u001b[0;34m\u001b[0m\u001b[0;34m\u001b[0m\u001b[0m\n\u001b[0m\u001b[1;32m      2\u001b[0m \u001b[0;34m\u001b[0m\u001b[0m\n\u001b[1;32m      3\u001b[0m \u001b[0;32mfor\u001b[0m \u001b[0mu\u001b[0m\u001b[0;34m,\u001b[0m \u001b[0mv\u001b[0m \u001b[0;32min\u001b[0m \u001b[0mG\u001b[0m\u001b[0;34m.\u001b[0m\u001b[0medges\u001b[0m\u001b[0;34m(\u001b[0m\u001b[0;34m)\u001b[0m\u001b[0;34m:\u001b[0m\u001b[0;34m\u001b[0m\u001b[0;34m\u001b[0m\u001b[0m\n\u001b[1;32m      4\u001b[0m     \u001b[0mG\u001b[0m\u001b[0;34m\u001b[0m\u001b[0;34m\u001b[0m\u001b[0m\n\u001b[1;32m      5\u001b[0m     \u001b[0mG\u001b[0m\u001b[0;34m[\u001b[0m\u001b[0mu\u001b[0m\u001b[0;34m]\u001b[0m\u001b[0;34m[\u001b[0m\u001b[0mv\u001b[0m\u001b[0;34m]\u001b[0m\u001b[0;34m[\u001b[0m\u001b[0;34m'color'\u001b[0m\u001b[0;34m]\u001b[0m \u001b[0;34m=\u001b[0m \u001b[0;34m'red'\u001b[0m\u001b[0;34m\u001b[0m\u001b[0;34m\u001b[0m\u001b[0m\n",
      "\u001b[0;31mNameError\u001b[0m: name 'nodes' is not defined"
     ]
    }
   ],
   "source": [
    "G = create_graph(nodes, edges)\n",
    "\n",
    "for u, v in G.edges():\n",
    "    G\n",
    "    G[u][v]['color'] = 'red'\n",
    "\n",
    "G.edges(data=True)\n",
    "\n",
    "from networkx.algorithms.connectivity import edge_disjoint_paths, node_disjoint_paths\n",
    "for path in edge_disjoint_paths(G, 1, 9):\n",
    "    print(path)\n",
    "print()\n",
    "for path in nx.shortest_path(G, 1, 9):\n",
    "    print(path)\n",
    "# for path in nx.all_simple_paths(G, source=1, target=9):\n",
    "#     print(path)"
   ]
  },
  {
   "cell_type": "code",
   "execution_count": 25,
   "metadata": {},
   "outputs": [
    {
     "data": {
      "text/plain": [
       "0"
      ]
     },
     "execution_count": 25,
     "metadata": {},
     "output_type": "execute_result"
    }
   ],
   "source": [
    "import random\n",
    "random.choice((1, 0))"
   ]
  },
  {
   "cell_type": "code",
   "execution_count": 19,
   "metadata": {},
   "outputs": [
    {
     "data": {
      "text/plain": [
       "[0, 1, 0, 0]"
      ]
     },
     "execution_count": 19,
     "metadata": {},
     "output_type": "execute_result"
    }
   ],
   "source": [
    "G=nx.MultiGraph()\n",
    "G.add_edges_from([(0,1,0), (0,1,1), (1,2,0), (2,0,0)])\n",
    "\n"
   ]
  },
  {
   "cell_type": "code",
   "execution_count": null,
   "metadata": {},
   "outputs": [],
   "source": []
  },
  {
   "cell_type": "code",
   "execution_count": null,
   "metadata": {},
   "outputs": [],
   "source": []
  },
  {
   "cell_type": "code",
   "execution_count": null,
   "metadata": {},
   "outputs": [],
   "source": []
  },
  {
   "cell_type": "code",
   "execution_count": null,
   "metadata": {},
   "outputs": [],
   "source": [
    "import networkx as nx\n",
    "\n",
    "G = nx.Graph()\n",
    "\n",
    "G.add_node"
   ]
  },
  {
   "cell_type": "code",
   "execution_count": null,
   "metadata": {},
   "outputs": [],
   "source": []
  },
  {
   "cell_type": "code",
   "execution_count": null,
   "metadata": {},
   "outputs": [],
   "source": []
  },
  {
   "cell_type": "code",
   "execution_count": null,
   "metadata": {},
   "outputs": [],
   "source": []
  },
  {
   "cell_type": "code",
   "execution_count": null,
   "metadata": {},
   "outputs": [],
   "source": []
  },
  {
   "cell_type": "code",
   "execution_count": null,
   "metadata": {},
   "outputs": [],
   "source": []
  },
  {
   "cell_type": "code",
   "execution_count": null,
   "metadata": {},
   "outputs": [],
   "source": []
  }
 ],
 "metadata": {
  "kernelspec": {
   "display_name": "Python 3",
   "language": "python",
   "name": "python3"
  },
  "language_info": {
   "codemirror_mode": {
    "name": "ipython",
    "version": 3
   },
   "file_extension": ".py",
   "mimetype": "text/x-python",
   "name": "python",
   "nbconvert_exporter": "python",
   "pygments_lexer": "ipython3",
   "version": "3.6.7"
  }
 },
 "nbformat": 4,
 "nbformat_minor": 2
}
