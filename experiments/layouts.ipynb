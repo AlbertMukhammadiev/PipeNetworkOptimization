{
 "cells": [
  {
   "cell_type": "markdown",
   "metadata": {},
   "source": [
    "# Square maximum layout"
   ]
  },
  {
   "cell_type": "markdown",
   "metadata": {},
   "source": [
    "* fill data"
   ]
  },
  {
   "cell_type": "code",
   "execution_count": 1,
   "metadata": {},
   "outputs": [
    {
     "data": {
      "text/plain": [
       "{1: {'diameter': 1, 'length': 100, 'link': (1, 2)},\n",
       " 2: {'diameter': 1, 'length': 100, 'link': (1, 3)},\n",
       " 3: {'diameter': 1, 'length': 100, 'link': (2, 4)},\n",
       " 4: {'diameter': 1, 'length': 100, 'link': (2, 5)},\n",
       " 5: {'diameter': 1, 'length': 100, 'link': (3, 5)},\n",
       " 6: {'diameter': 1, 'length': 100, 'link': (3, 6)},\n",
       " 7: {'diameter': 1, 'length': 100, 'link': (4, 7)},\n",
       " 8: {'diameter': 1, 'length': 100, 'link': (5, 7)},\n",
       " 9: {'diameter': 1, 'length': 100, 'link': (5, 8)},\n",
       " 10: {'diameter': 1, 'length': 100, 'link': (6, 8)},\n",
       " 11: {'diameter': 1, 'length': 100, 'link': (7, 9)},\n",
       " 12: {'diameter': 1, 'length': 100, 'link': (8, 9)}}"
      ]
     },
     "execution_count": 1,
     "metadata": {},
     "output_type": "execute_result"
    }
   ],
   "source": [
    "labels = list(range(1, 10))\n",
    "positions = [(0, 0), (4, 0), (0, 4), (8, 0), (4, 4), (0, 8), (8, 4), (4, 8), (8, 8)]\n",
    "types = ['sink'] * 8 + ['source']\n",
    "demands = [10, 20] * 4 + [-120]\n",
    "\n",
    "nodes = dict()\n",
    "for i, label in enumerate(labels):\n",
    "    nodes[label] = {\n",
    "        'position': {'x': positions[i][0], 'y': positions[i][1]},\n",
    "        'demand': demands[i],\n",
    "        'type': types[i],\n",
    "    }\n",
    "\n",
    "labels = list(range(1, 13))\n",
    "links = [(1, 2), (1, 3), (2, 4), (2, 5), (3, 5), (3, 6),\n",
    "         (4, 7), (5, 7), (5, 8), (6, 8), (7, 9), (8, 9)]\n",
    "diameters = [1] * 12\n",
    "lengths = [100] * 12\n",
    "\n",
    "edges = dict()\n",
    "for i, label in enumerate(labels):\n",
    "    edges[label] = {\n",
    "        'link': links[i],\n",
    "        'diameter': diameters[i],\n",
    "        'length': lengths[i],\n",
    "    }\n",
    "\n",
    "diameters = [0, 80, 100, 120, 140, 160, 180, 200, 220, 240, 260, 280, 300, 320]\n",
    "costs = [0, 23, 32, 50, 60, 90, 130, 170, 300, 340, 390, 430, 470, 500]\n",
    "cost_data = dict(zip(diameters, costs))\n",
    "\n",
    "edges"
   ]
  },
  {
   "cell_type": "markdown",
   "metadata": {},
   "source": [
    "* create Graph and save to file"
   ]
  },
  {
   "cell_type": "code",
   "execution_count": 2,
   "metadata": {},
   "outputs": [],
   "source": [
    "from networkx import Graph, write_gexf\n",
    "import json\n",
    "\n",
    "G = Graph()\n",
    "for label, props in nodes.items():\n",
    "    G.add_node(label, position=props['position'], type=props['type'], demand=props['demand'])\n",
    "    \n",
    "for link, props in edges.items():\n",
    "    G.add_edge(*props['link'], diameter=props['diameter'], length=props['length'], label=label)\n",
    "\n",
    "directory = '../projects/square_layout/'\n",
    "write_gexf(G, directory + 'initial.gexf')\n",
    "with open(directory + 'cost_model.json', 'w') as fout:\n",
    "    json.dump(cost_data, fout)"
   ]
  },
  {
   "cell_type": "code",
   "execution_count": null,
   "metadata": {},
   "outputs": [],
   "source": []
  },
  {
   "cell_type": "markdown",
   "metadata": {},
   "source": [
    "# Large system from article\n",
    "* fill data"
   ]
  },
  {
   "cell_type": "code",
   "execution_count": 3,
   "metadata": {},
   "outputs": [],
   "source": [
    "labels = list(range(1, 21))\n",
    "positions = [\n",
    "    (7.5, 2),           # 1\n",
    "    (19.8, 3.2),\n",
    "    (34.6, 4.6),\n",
    "    (1.6, 7),\n",
    "    (27.5, 9.5),\n",
    "    \n",
    "    (14.6, 11.7),       # 6\n",
    "    (34.6, 16),\n",
    "    (2.8, 18),\n",
    "    (8.9, 17.6),\n",
    "    (26.2, 18.5),\n",
    "    \n",
    "    (20.1, 22.4),       # 11\n",
    "    (30.7, 24.6),\n",
    "    (40.5, 23.8),\n",
    "    (9.9, 28.9),\n",
    "    (3.9, 29.9),\n",
    "    \n",
    "    (14.2, 32.2),       # 16\n",
    "    (33.3, 31.2),\n",
    "    (21.1, 36.1),\n",
    "    (7.9, 37),\n",
    "    (16.3, 43.2),\n",
    "]\n",
    "types = ['sink'] * 4 + ['source'] + ['sink'] * 10 + ['source'] + ['sink'] * 4\n",
    "demands = [\n",
    "    165, 220, 145, 165, -1,\n",
    "    140, 175, 180, 140, 160,\n",
    "    170, 160, 190, 200, 150,\n",
    "    -10, 165, 140, 185, 165\n",
    "]\n",
    "nodes = dict()\n",
    "for i, label in enumerate(labels):\n",
    "    nodes[label] = {\n",
    "        'position': {'x': positions[i][0], 'y': positions[i][1]},\n",
    "        'demand': demands[i],\n",
    "        'type': types[i],\n",
    "    }\n",
    "\n",
    "labels = list(range(1, 38))\n",
    "links = [\n",
    "    (1, 2), (1, 4), (1, 6),\n",
    "    (2, 3), (2, 5), (2, 6),\n",
    "    (3, 5), (3, 7),\n",
    "    (4, 8), (4, 9),\n",
    "    (5, 7), (5, 10),\n",
    "    (6, 9), (6, 10),\n",
    "    (7, 12), (7, 13),\n",
    "    (8, 9), (8, 15),\n",
    "    (9, 11), (9, 14),\n",
    "    (10, 11), (10, 12),\n",
    "    (11, 12), (11, 16), (11, 18),\n",
    "    (12, 13), (12, 17), (13, 17),\n",
    "    (14, 15), (14, 16), (14, 19),\n",
    "    (15, 19),\n",
    "    (16, 18), (16, 19),\n",
    "    (17, 18),\n",
    "    (18, 20),\n",
    "    (19, 20)\n",
    "]\n",
    "\n",
    "diameters = [1] * 37\n",
    "lengths = [\n",
    "    760, 520, 890, 1120, 610,\n",
    "    680, 680, 870, 860, 980,\n",
    "    890, 750, 620, 800, 730,\n",
    "    680, 480, 860, 800, 770,\n",
    "    350, 620, 670, 790, 1150,\n",
    "    750, 550, 700, 500, 450,\n",
    "    750, 720, 540, 700, 850,\n",
    "    750, 970\n",
    "]\n",
    "edges = dict()\n",
    "for i, label in enumerate(labels):\n",
    "    edges[label] = {\n",
    "        'link': links[i],\n",
    "        'diameter': diameters[i],\n",
    "        'length': lengths[i],\n",
    "    }\n",
    "\n",
    "diameters = [0, 125, 150, 200, 250, 300, 350, 400, 450, 500, 550, 600, 650, 700]\n",
    "costs = [0, 58, 62, 71.7, 88.9, 112.3, 138.7, 169, 207, 248, 297, 347, 405, 470]\n",
    "cost_data = dict(zip(diameters, costs))"
   ]
  },
  {
   "cell_type": "markdown",
   "metadata": {},
   "source": [
    "* create Graph and save to file"
   ]
  },
  {
   "cell_type": "code",
   "execution_count": 4,
   "metadata": {},
   "outputs": [],
   "source": [
    "from networkx import Graph, write_gexf\n",
    "import json\n",
    "\n",
    "G = Graph()\n",
    "for label, props in nodes.items():\n",
    "    G.add_node(label, position=props['position'], type=props['type'], demand=props['demand'])\n",
    "    \n",
    "for link, props in edges.items():\n",
    "    G.add_edge(*props['link'], diameter=props['diameter'], length=props['length'], label=label)\n",
    "\n",
    "directory = '../projects/from_article/'\n",
    "write_gexf(G, directory + 'initial.gexf')\n",
    "with open(directory + 'cost_model.json', 'w') as fout:\n",
    "    json.dump(cost_data, fout)"
   ]
  },
  {
   "cell_type": "code",
   "execution_count": null,
   "metadata": {},
   "outputs": [],
   "source": []
  }
 ],
 "metadata": {
  "kernelspec": {
   "display_name": "Python 3",
   "language": "python",
   "name": "python3"
  },
  "language_info": {
   "codemirror_mode": {
    "name": "ipython",
    "version": 3
   },
   "file_extension": ".py",
   "mimetype": "text/x-python",
   "name": "python",
   "nbconvert_exporter": "python",
   "pygments_lexer": "ipython3",
   "version": "3.6.7"
  }
 },
 "nbformat": 4,
 "nbformat_minor": 2
}
